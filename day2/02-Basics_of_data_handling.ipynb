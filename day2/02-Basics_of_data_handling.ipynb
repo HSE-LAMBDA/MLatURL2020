{
  "cells": [
    {
      "cell_type": "markdown",
      "source": [
        "<a href=\"https://colab.research.google.com/github/HSE-LaMBDA/MLatURL2020/blob/day2/master/02-Basics_of_data_handling.ipynb\" target=\"_parent\"><img src=\"https://colab.research.google.com/assets/colab-badge.svg\" alt=\"Open In Colab\"/></a>"
      ],
      "metadata": {
        "id": "view-in-github",
        "colab_type": "text"
      }
    },
    {
      "cell_type": "markdown",
      "source": [
        "# Basics of data handling"
      ],
      "metadata": {
        "id": "cVC3dEW2M1gw",
        "colab_type": "text"
      }
    },
    {
      "cell_type": "markdown",
      "source": [
        "## Pandas \n",
        "pandas is a library providing high-performance, easy-to-use data structures and data analysis tools for the Python programming language."
      ],
      "metadata": {
        "id": "ZhU9jMKepA-s",
        "colab_type": "text"
      }
    },
    {
      "cell_type": "code",
      "source": [
        "import pandas as pd\n",
        "import numpy as np\n",
        "import matplotlib.pyplot as plt\n",
        "%matplotlib inline"
      ],
      "outputs": [],
      "execution_count": 1,
      "metadata": {
        "id": "KJ8Xch9UpSnZ",
        "colab_type": "code",
        "colab": {}
      }
    },
    {
      "cell_type": "markdown",
      "source": [
        "**Pandas Dataframes**\n",
        "\n",
        "One way of manipulating your data (slicing, filtering, removing variables, creating new features, taking operations of branches) in a simple, visually appealing way is to use `pandas` dataframes, a beatiful and efficient Python data structure library. Recommended for exploratory data analysis, probably not for high performance applications.\n",
        "\n",
        "\n",
        "The main object here is `pandas.DataFrame` – a two-dimensional table of (possibly heterogeneous) data. There is a number a ways to create a `DataFrame`, but possibly one of the most common ways is to construct it by reading a text file of tabulated data with a specified delimiter (i.e. CSV files):"
      ],
      "metadata": {
        "id": "DpkO5os_tMHV",
        "colab_type": "text"
      }
    },
    {
      "cell_type": "code",
      "source": [
        "df = pd.read_csv(\"https://raw.githubusercontent.com/HSE-LaMBDA/MLatURL2019/master/day2/weather_barcelona_2020-02-10.csv\",\n",
        "                 delimiter=';')\n",
        "type(df)"
      ],
      "outputs": [
        {
          "output_type": "execute_result",
          "execution_count": 3,
          "data": {
            "text/plain": [
              "pandas.core.frame.DataFrame"
            ]
          },
          "metadata": {}
        }
      ],
      "execution_count": 3,
      "metadata": {
        "id": "yr1cVv4xvkbr",
        "colab_type": "code",
        "outputId": "098b8e14-1140-4960-d7c4-640960f80bf9",
        "colab": {
          "base_uri": "https://localhost:8080/",
          "height": 35
        }
      }
    },
    {
      "cell_type": "markdown",
      "source": [
        "What is this? Weather in Barcelona for last 2 weeks (taken from [here](https://www.meteoblue.com/en/weather/archive/export/barcelona_spain_3128760?daterange=2019-03-05+to+2019-03-19&params=&params%5B%5D=11%3B2+m+above+gnd&params%5B%5D=660%3Bsfc&params%5B%5D=32%3B10+m+above+gnd%3B31%3B10+m+above+gnd&utc_offset=1&aggregation=hourly&temperatureunit=CELSIUS&windspeedunit=KILOMETER_PER_HOUR))."
      ],
      "metadata": {
        "id": "VkqYznM4aKtI",
        "colab_type": "text"
      }
    },
    {
      "cell_type": "code",
      "source": [
        "df.columns"
      ],
      "outputs": [
        {
          "output_type": "execute_result",
          "execution_count": 8,
          "data": {
            "text/plain": [
              "Index(['Year', 'Month', 'Day', 'Hour', 'Minute',\n",
              "       'Temperature  [2 m above gnd]',\n",
              "       'Total Precipitation (high resolution)  [sfc]',\n",
              "       'Wind Speed  [10 m above gnd]', 'Wind Direction  [10 m above gnd]'],\n",
              "      dtype='object')"
            ]
          },
          "metadata": {}
        }
      ],
      "execution_count": 8,
      "metadata": {
        "collapsed": false,
        "outputHidden": false,
        "inputHidden": false
      }
    },
    {
      "cell_type": "code",
      "source": [
        "fig, ax = plt.subplots(figsize=(14,4))\n",
        "ax.plot(pd.to_datetime(df[['Year', 'Month', 'Day', 'Hour']]), df['Temperature  [2 m above gnd]'])\n",
        "ax.axis('tight')\n",
        "ax.set_title('Tempeature in Barcelona')\n",
        "ax.set_xlabel('Date')\n",
        "ax.set_ylabel('Temperature (C)');"
      ],
      "outputs": [
        {
          "output_type": "display_data",
          "data": {
            "text/plain": [
              "<matplotlib.figure.Figure at 0x117d234a8>"
            ],
            "image/png": "[encoded data removed]"
          },
          "metadata": {}
        }
      ],
      "execution_count": 26,
      "metadata": {
        "id": "qQuLl7EYLAd8",
        "colab_type": "code",
        "outputId": "182409f0-6964-471b-8cdd-645e24ef1f2b",
        "colab": {
          "base_uri": "https://localhost:8080/",
          "height": 294
        }
      }
    },
    {
      "cell_type": "markdown",
      "source": [
        "Let's dig into the data.\n",
        "\n",
        "Look at the first N (5 by default) rows of the data:"
      ],
      "metadata": {
        "id": "YRKfqlzZJqFr",
        "colab_type": "text"
      }
    },
    {
      "cell_type": "code",
      "source": [
        "df.head()"
      ],
      "outputs": [
        {
          "output_type": "execute_result",
          "execution_count": 11,
          "data": {
            "text/html": [
              "<div>\n",
              "<table border=\"1\" class=\"dataframe\">\n",
              "  <thead>\n",
              "    <tr style=\"text-align: right;\">\n",
              "      <th></th>\n",
              "      <th>Year</th>\n",
              "      <th>Month</th>\n",
              "      <th>Day</th>\n",
              "      <th>Hour</th>\n",
              "      <th>Minute</th>\n",
              "      <th>Temperature  [2 m above gnd]</th>\n",
              "      <th>Total Precipitation (high resolution)  [sfc]</th>\n",
              "      <th>Wind Speed  [10 m above gnd]</th>\n",
              "      <th>Wind Direction  [10 m above gnd]</th>\n",
              "    </tr>\n",
              "  </thead>\n",
              "  <tbody>\n",
              "    <tr>\n",
              "      <th>0</th>\n",
              "      <td>2019</td>\n",
              "      <td>3</td>\n",
              "      <td>5</td>\n",
              "      <td>0</td>\n",
              "      <td>0</td>\n",
              "      <td>13.22</td>\n",
              "      <td>0.0</td>\n",
              "      <td>7.70</td>\n",
              "      <td>127.41</td>\n",
              "    </tr>\n",
              "    <tr>\n",
              "      <th>1</th>\n",
              "      <td>2019</td>\n",
              "      <td>3</td>\n",
              "      <td>5</td>\n",
              "      <td>1</td>\n",
              "      <td>0</td>\n",
              "      <td>13.26</td>\n",
              "      <td>0.0</td>\n",
              "      <td>6.29</td>\n",
              "      <td>113.63</td>\n",
              "    </tr>\n",
              "    <tr>\n",
              "      <th>2</th>\n",
              "      <td>2019</td>\n",
              "      <td>3</td>\n",
              "      <td>5</td>\n",
              "      <td>2</td>\n",
              "      <td>0</td>\n",
              "      <td>13.22</td>\n",
              "      <td>0.0</td>\n",
              "      <td>7.86</td>\n",
              "      <td>105.95</td>\n",
              "    </tr>\n",
              "    <tr>\n",
              "      <th>3</th>\n",
              "      <td>2019</td>\n",
              "      <td>3</td>\n",
              "      <td>5</td>\n",
              "      <td>3</td>\n",
              "      <td>0</td>\n",
              "      <td>13.22</td>\n",
              "      <td>0.0</td>\n",
              "      <td>9.96</td>\n",
              "      <td>102.53</td>\n",
              "    </tr>\n",
              "    <tr>\n",
              "      <th>4</th>\n",
              "      <td>2019</td>\n",
              "      <td>3</td>\n",
              "      <td>5</td>\n",
              "      <td>4</td>\n",
              "      <td>0</td>\n",
              "      <td>13.20</td>\n",
              "      <td>0.0</td>\n",
              "      <td>12.77</td>\n",
              "      <td>111.50</td>\n",
              "    </tr>\n",
              "  </tbody>\n",
              "</table>\n",
              "</div>"
            ],
            "text/plain": [
              "   Year  Month  Day  Hour  Minute  Temperature  [2 m above gnd]  \\\n",
              "0  2019      3    5     0       0                         13.22   \n",
              "1  2019      3    5     1       0                         13.26   \n",
              "2  2019      3    5     2       0                         13.22   \n",
              "3  2019      3    5     3       0                         13.22   \n",
              "4  2019      3    5     4       0                         13.20   \n",
              "\n",
              "   Total Precipitation (high resolution)  [sfc]  Wind Speed  [10 m above gnd]  \\\n",
              "0                                           0.0                          7.70   \n",
              "1                                           0.0                          6.29   \n",
              "2                                           0.0                          7.86   \n",
              "3                                           0.0                          9.96   \n",
              "4                                           0.0                         12.77   \n",
              "\n",
              "   Wind Direction  [10 m above gnd]  \n",
              "0                            127.41  \n",
              "1                            113.63  \n",
              "2                            105.95  \n",
              "3                            102.53  \n",
              "4                            111.50  "
            ]
          },
          "metadata": {}
        }
      ],
      "execution_count": 11,
      "metadata": {
        "id": "U8SqrYS2wFgN",
        "colab_type": "code",
        "outputId": "beac804d-08f9-429d-a084-21db0d1f6755",
        "colab": {
          "base_uri": "https://localhost:8080/",
          "height": 241
        }
      }
    },
    {
      "cell_type": "markdown",
      "source": [
        "Let's pick a rows from 3 to 10 and store the result as an independent copy of the original data:"
      ],
      "metadata": {
        "id": "1f3uoGnSwU5x",
        "colab_type": "text"
      }
    },
    {
      "cell_type": "code",
      "source": [
        "small_df = df.loc[3:10].copy()\n",
        "small_df"
      ],
      "outputs": [
        {
          "output_type": "execute_result",
          "execution_count": 12,
          "data": {
            "text/html": [
              "<div>\n",
              "<table border=\"1\" class=\"dataframe\">\n",
              "  <thead>\n",
              "    <tr style=\"text-align: right;\">\n",
              "      <th></th>\n",
              "      <th>Year</th>\n",
              "      <th>Month</th>\n",
              "      <th>Day</th>\n",
              "      <th>Hour</th>\n",
              "      <th>Minute</th>\n",
              "      <th>Temperature  [2 m above gnd]</th>\n",
              "      <th>Total Precipitation (high resolution)  [sfc]</th>\n",
              "      <th>Wind Speed  [10 m above gnd]</th>\n",
              "      <th>Wind Direction  [10 m above gnd]</th>\n",
              "    </tr>\n",
              "  </thead>\n",
              "  <tbody>\n",
              "    <tr>\n",
              "      <th>3</th>\n",
              "      <td>2019</td>\n",
              "      <td>3</td>\n",
              "      <td>5</td>\n",
              "      <td>3</td>\n",
              "      <td>0</td>\n",
              "      <td>13.22</td>\n",
              "      <td>0.0</td>\n",
              "      <td>9.96</td>\n",
              "      <td>102.53</td>\n",
              "    </tr>\n",
              "    <tr>\n",
              "      <th>4</th>\n",
              "      <td>2019</td>\n",
              "      <td>3</td>\n",
              "      <td>5</td>\n",
              "      <td>4</td>\n",
              "      <td>0</td>\n",
              "      <td>13.20</td>\n",
              "      <td>0.0</td>\n",
              "      <td>12.77</td>\n",
              "      <td>111.50</td>\n",
              "    </tr>\n",
              "    <tr>\n",
              "      <th>5</th>\n",
              "      <td>2019</td>\n",
              "      <td>3</td>\n",
              "      <td>5</td>\n",
              "      <td>5</td>\n",
              "      <td>0</td>\n",
              "      <td>12.74</td>\n",
              "      <td>0.0</td>\n",
              "      <td>14.21</td>\n",
              "      <td>98.75</td>\n",
              "    </tr>\n",
              "    <tr>\n",
              "      <th>6</th>\n",
              "      <td>2019</td>\n",
              "      <td>3</td>\n",
              "      <td>5</td>\n",
              "      <td>6</td>\n",
              "      <td>0</td>\n",
              "      <td>12.55</td>\n",
              "      <td>0.0</td>\n",
              "      <td>13.36</td>\n",
              "      <td>85.36</td>\n",
              "    </tr>\n",
              "    <tr>\n",
              "      <th>7</th>\n",
              "      <td>2019</td>\n",
              "      <td>3</td>\n",
              "      <td>5</td>\n",
              "      <td>7</td>\n",
              "      <td>0</td>\n",
              "      <td>12.28</td>\n",
              "      <td>0.0</td>\n",
              "      <td>13.05</td>\n",
              "      <td>65.56</td>\n",
              "    </tr>\n",
              "    <tr>\n",
              "      <th>8</th>\n",
              "      <td>2019</td>\n",
              "      <td>3</td>\n",
              "      <td>5</td>\n",
              "      <td>8</td>\n",
              "      <td>0</td>\n",
              "      <td>12.23</td>\n",
              "      <td>0.0</td>\n",
              "      <td>13.09</td>\n",
              "      <td>58.50</td>\n",
              "    </tr>\n",
              "    <tr>\n",
              "      <th>9</th>\n",
              "      <td>2019</td>\n",
              "      <td>3</td>\n",
              "      <td>5</td>\n",
              "      <td>9</td>\n",
              "      <td>0</td>\n",
              "      <td>12.90</td>\n",
              "      <td>0.0</td>\n",
              "      <td>15.83</td>\n",
              "      <td>72.80</td>\n",
              "    </tr>\n",
              "    <tr>\n",
              "      <th>10</th>\n",
              "      <td>2019</td>\n",
              "      <td>3</td>\n",
              "      <td>5</td>\n",
              "      <td>10</td>\n",
              "      <td>0</td>\n",
              "      <td>13.42</td>\n",
              "      <td>0.0</td>\n",
              "      <td>17.56</td>\n",
              "      <td>74.54</td>\n",
              "    </tr>\n",
              "  </tbody>\n",
              "</table>\n",
              "</div>"
            ],
            "text/plain": [
              "    Year  Month  Day  Hour  Minute  Temperature  [2 m above gnd]  \\\n",
              "3   2019      3    5     3       0                         13.22   \n",
              "4   2019      3    5     4       0                         13.20   \n",
              "5   2019      3    5     5       0                         12.74   \n",
              "6   2019      3    5     6       0                         12.55   \n",
              "7   2019      3    5     7       0                         12.28   \n",
              "8   2019      3    5     8       0                         12.23   \n",
              "9   2019      3    5     9       0                         12.90   \n",
              "10  2019      3    5    10       0                         13.42   \n",
              "\n",
              "    Total Precipitation (high resolution)  [sfc]  \\\n",
              "3                                            0.0   \n",
              "4                                            0.0   \n",
              "5                                            0.0   \n",
              "6                                            0.0   \n",
              "7                                            0.0   \n",
              "8                                            0.0   \n",
              "9                                            0.0   \n",
              "10                                           0.0   \n",
              "\n",
              "    Wind Speed  [10 m above gnd]  Wind Direction  [10 m above gnd]  \n",
              "3                           9.96                            102.53  \n",
              "4                          12.77                            111.50  \n",
              "5                          14.21                             98.75  \n",
              "6                          13.36                             85.36  \n",
              "7                          13.05                             65.56  \n",
              "8                          13.09                             58.50  \n",
              "9                          15.83                             72.80  \n",
              "10                         17.56                             74.54  "
            ]
          },
          "metadata": {}
        }
      ],
      "execution_count": 12,
      "metadata": {
        "id": "A5RyIXGXwRe6",
        "colab_type": "code",
        "outputId": "982db59a-d7ca-4a7d-d0e5-bcdd96f1a5fe",
        "colab": {
          "base_uri": "https://localhost:8080/",
          "height": 335
        }
      }
    },
    {
      "cell_type": "markdown",
      "source": [
        "Note that small_df has index starting from 3:"
      ],
      "metadata": {
        "id": "qhgZYXrkAz3v",
        "colab_type": "text"
      }
    },
    {
      "cell_type": "code",
      "source": [
        "small_df.index"
      ],
      "outputs": [
        {
          "output_type": "execute_result",
          "execution_count": 13,
          "data": {
            "text/plain": [
              "RangeIndex(start=3, stop=11, step=1)"
            ]
          },
          "metadata": {}
        }
      ],
      "execution_count": 13,
      "metadata": {
        "id": "MNexuqQ7wRSt",
        "colab_type": "code",
        "outputId": "82d92561-1ce6-437a-a2f7-c035bb7e1bd7",
        "colab": {
          "base_uri": "https://localhost:8080/",
          "height": 35
        }
      }
    },
    {
      "cell_type": "markdown",
      "source": [
        "Indexing with '.loc' uses that index, also it includes the last element of the slice:"
      ],
      "metadata": {
        "id": "lcuaGBegA5Ti",
        "colab_type": "text"
      }
    },
    {
      "cell_type": "code",
      "source": [
        "small_df.loc[4:5]"
      ],
      "outputs": [
        {
          "output_type": "execute_result",
          "execution_count": 14,
          "data": {
            "text/html": [
              "<div>\n",
              "<table border=\"1\" class=\"dataframe\">\n",
              "  <thead>\n",
              "    <tr style=\"text-align: right;\">\n",
              "      <th></th>\n",
              "      <th>Year</th>\n",
              "      <th>Month</th>\n",
              "      <th>Day</th>\n",
              "      <th>Hour</th>\n",
              "      <th>Minute</th>\n",
              "      <th>Temperature  [2 m above gnd]</th>\n",
              "      <th>Total Precipitation (high resolution)  [sfc]</th>\n",
              "      <th>Wind Speed  [10 m above gnd]</th>\n",
              "      <th>Wind Direction  [10 m above gnd]</th>\n",
              "    </tr>\n",
              "  </thead>\n",
              "  <tbody>\n",
              "    <tr>\n",
              "      <th>4</th>\n",
              "      <td>2019</td>\n",
              "      <td>3</td>\n",
              "      <td>5</td>\n",
              "      <td>4</td>\n",
              "      <td>0</td>\n",
              "      <td>13.20</td>\n",
              "      <td>0.0</td>\n",
              "      <td>12.77</td>\n",
              "      <td>111.50</td>\n",
              "    </tr>\n",
              "    <tr>\n",
              "      <th>5</th>\n",
              "      <td>2019</td>\n",
              "      <td>3</td>\n",
              "      <td>5</td>\n",
              "      <td>5</td>\n",
              "      <td>0</td>\n",
              "      <td>12.74</td>\n",
              "      <td>0.0</td>\n",
              "      <td>14.21</td>\n",
              "      <td>98.75</td>\n",
              "    </tr>\n",
              "  </tbody>\n",
              "</table>\n",
              "</div>"
            ],
            "text/plain": [
              "   Year  Month  Day  Hour  Minute  Temperature  [2 m above gnd]  \\\n",
              "4  2019      3    5     4       0                         13.20   \n",
              "5  2019      3    5     5       0                         12.74   \n",
              "\n",
              "   Total Precipitation (high resolution)  [sfc]  Wind Speed  [10 m above gnd]  \\\n",
              "4                                           0.0                         12.77   \n",
              "5                                           0.0                         14.21   \n",
              "\n",
              "   Wind Direction  [10 m above gnd]  \n",
              "4                            111.50  \n",
              "5                             98.75  "
            ]
          },
          "metadata": {}
        }
      ],
      "execution_count": 14,
      "metadata": {
        "id": "g6pu0DEBwRHd",
        "colab_type": "code",
        "outputId": "f01e465a-d8a5-4f63-e5e4-fa85b05b9567",
        "colab": {
          "base_uri": "https://localhost:8080/",
          "height": 147
        }
      }
    },
    {
      "cell_type": "markdown",
      "source": [
        "While using just [4:5] selects the row, which is 4'th from the beginning\n",
        "of current `DataFrame` (it's index is 7), and it excludes the last element\n",
        "of the slice:"
      ],
      "metadata": {
        "id": "cx3DzyZZBcrt",
        "colab_type": "text"
      }
    },
    {
      "cell_type": "code",
      "source": [
        "small_df[4:5]"
      ],
      "outputs": [
        {
          "output_type": "execute_result",
          "execution_count": 15,
          "data": {
            "text/html": [
              "<div>\n",
              "<table border=\"1\" class=\"dataframe\">\n",
              "  <thead>\n",
              "    <tr style=\"text-align: right;\">\n",
              "      <th></th>\n",
              "      <th>Year</th>\n",
              "      <th>Month</th>\n",
              "      <th>Day</th>\n",
              "      <th>Hour</th>\n",
              "      <th>Minute</th>\n",
              "      <th>Temperature  [2 m above gnd]</th>\n",
              "      <th>Total Precipitation (high resolution)  [sfc]</th>\n",
              "      <th>Wind Speed  [10 m above gnd]</th>\n",
              "      <th>Wind Direction  [10 m above gnd]</th>\n",
              "    </tr>\n",
              "  </thead>\n",
              "  <tbody>\n",
              "    <tr>\n",
              "      <th>7</th>\n",
              "      <td>2019</td>\n",
              "      <td>3</td>\n",
              "      <td>5</td>\n",
              "      <td>7</td>\n",
              "      <td>0</td>\n",
              "      <td>12.28</td>\n",
              "      <td>0.0</td>\n",
              "      <td>13.05</td>\n",
              "      <td>65.56</td>\n",
              "    </tr>\n",
              "  </tbody>\n",
              "</table>\n",
              "</div>"
            ],
            "text/plain": [
              "   Year  Month  Day  Hour  Minute  Temperature  [2 m above gnd]  \\\n",
              "7  2019      3    5     7       0                         12.28   \n",
              "\n",
              "   Total Precipitation (high resolution)  [sfc]  Wind Speed  [10 m above gnd]  \\\n",
              "7                                           0.0                         13.05   \n",
              "\n",
              "   Wind Direction  [10 m above gnd]  \n",
              "7                             65.56  "
            ]
          },
          "metadata": {}
        }
      ],
      "execution_count": 15,
      "metadata": {
        "id": "swU-tTy4wQ-0",
        "colab_type": "code",
        "outputId": "d5b10073-0f00-4e36-f3ba-f932bfc945ee",
        "colab": {
          "base_uri": "https://localhost:8080/",
          "height": 115
        }
      }
    },
    {
      "cell_type": "markdown",
      "source": [
        "You can list the column names:"
      ],
      "metadata": {
        "id": "-2wMr3-lLtgY",
        "colab_type": "text"
      }
    },
    {
      "cell_type": "code",
      "source": [
        "small_df.columns"
      ],
      "outputs": [
        {
          "output_type": "execute_result",
          "execution_count": 16,
          "data": {
            "text/plain": [
              "Index(['Year', 'Month', 'Day', 'Hour', 'Minute',\n",
              "       'Temperature  [2 m above gnd]',\n",
              "       'Total Precipitation (high resolution)  [sfc]',\n",
              "       'Wind Speed  [10 m above gnd]', 'Wind Direction  [10 m above gnd]'],\n",
              "      dtype='object')"
            ]
          },
          "metadata": {}
        }
      ],
      "execution_count": 16,
      "metadata": {
        "id": "IZn6nmQwwQzS",
        "colab_type": "code",
        "outputId": "9d22b3ef-cd54-479f-ba9c-2c0b92001510",
        "colab": {
          "base_uri": "https://localhost:8080/",
          "height": 109
        }
      }
    },
    {
      "cell_type": "markdown",
      "source": [
        "And easily select them:"
      ],
      "metadata": {
        "id": "eVMBum-tCDRm",
        "colab_type": "text"
      }
    },
    {
      "cell_type": "code",
      "source": [
        "small_df['Temperature  [2 m above gnd]']"
      ],
      "outputs": [
        {
          "output_type": "execute_result",
          "execution_count": 17,
          "data": {
            "text/plain": [
              "3     13.22\n",
              "4     13.20\n",
              "5     12.74\n",
              "6     12.55\n",
              "7     12.28\n",
              "8     12.23\n",
              "9     12.90\n",
              "10    13.42\n",
              "Name: Temperature  [2 m above gnd], dtype: float64"
            ]
          },
          "metadata": {}
        }
      ],
      "execution_count": 17,
      "metadata": {
        "id": "v3cqgU-73PaV",
        "colab_type": "code",
        "outputId": "af7beb4e-d7d7-492d-9eab-f0eed710a5cf",
        "colab": {
          "base_uri": "https://localhost:8080/",
          "height": 182
        }
      }
    },
    {
      "cell_type": "markdown",
      "source": [
        "Or select a group of columns (note the nested [] brackets):"
      ],
      "metadata": {
        "id": "Y3HB6M3MCI2-",
        "colab_type": "text"
      }
    },
    {
      "cell_type": "code",
      "source": [
        "small_df[['Hour', 'Temperature  [2 m above gnd]']]"
      ],
      "outputs": [
        {
          "output_type": "execute_result",
          "execution_count": 18,
          "data": {
            "text/html": [
              "<div>\n",
              "<table border=\"1\" class=\"dataframe\">\n",
              "  <thead>\n",
              "    <tr style=\"text-align: right;\">\n",
              "      <th></th>\n",
              "      <th>Hour</th>\n",
              "      <th>Temperature  [2 m above gnd]</th>\n",
              "    </tr>\n",
              "  </thead>\n",
              "  <tbody>\n",
              "    <tr>\n",
              "      <th>3</th>\n",
              "      <td>3</td>\n",
              "      <td>13.22</td>\n",
              "    </tr>\n",
              "    <tr>\n",
              "      <th>4</th>\n",
              "      <td>4</td>\n",
              "      <td>13.20</td>\n",
              "    </tr>\n",
              "    <tr>\n",
              "      <th>5</th>\n",
              "      <td>5</td>\n",
              "      <td>12.74</td>\n",
              "    </tr>\n",
              "    <tr>\n",
              "      <th>6</th>\n",
              "      <td>6</td>\n",
              "      <td>12.55</td>\n",
              "    </tr>\n",
              "    <tr>\n",
              "      <th>7</th>\n",
              "      <td>7</td>\n",
              "      <td>12.28</td>\n",
              "    </tr>\n",
              "    <tr>\n",
              "      <th>8</th>\n",
              "      <td>8</td>\n",
              "      <td>12.23</td>\n",
              "    </tr>\n",
              "    <tr>\n",
              "      <th>9</th>\n",
              "      <td>9</td>\n",
              "      <td>12.90</td>\n",
              "    </tr>\n",
              "    <tr>\n",
              "      <th>10</th>\n",
              "      <td>10</td>\n",
              "      <td>13.42</td>\n",
              "    </tr>\n",
              "  </tbody>\n",
              "</table>\n",
              "</div>"
            ],
            "text/plain": [
              "    Hour  Temperature  [2 m above gnd]\n",
              "3      3                         13.22\n",
              "4      4                         13.20\n",
              "5      5                         12.74\n",
              "6      6                         12.55\n",
              "7      7                         12.28\n",
              "8      8                         12.23\n",
              "9      9                         12.90\n",
              "10    10                         13.42"
            ]
          },
          "metadata": {}
        }
      ],
      "execution_count": 18,
      "metadata": {
        "id": "AnCZEQNF7dfL",
        "colab_type": "code",
        "outputId": "741fca28-8b53-44e9-8657-b976dd48724b",
        "colab": {
          "base_uri": "https://localhost:8080/",
          "height": 300
        }
      }
    },
    {
      "cell_type": "markdown",
      "source": [
        "**Exercise**. Try to select days with some rain. And the same excluding weekends?"
      ],
      "metadata": {
        "id": "cXdXMl9BISKa",
        "colab_type": "text"
      }
    },
    {
      "cell_type": "code",
      "source": [],
      "outputs": [],
      "execution_count": 19,
      "metadata": {
        "id": "vNWTYMxyIlpq",
        "colab_type": "code",
        "colab": {}
      }
    },
    {
      "cell_type": "markdown",
      "source": [
        "You can even add new columns:"
      ],
      "metadata": {
        "id": "6Rs-xIlGCSp5",
        "colab_type": "text"
      }
    },
    {
      "cell_type": "code",
      "source": [
        "small_df['T_squared'] = small_df['Temperature  [2 m above gnd]']**2\n",
        "small_df['T_squared']"
      ],
      "outputs": [
        {
          "output_type": "execute_result",
          "execution_count": 19,
          "data": {
            "text/plain": [
              "3     174.7684\n",
              "4     174.2400\n",
              "5     162.3076\n",
              "6     157.5025\n",
              "7     150.7984\n",
              "8     149.5729\n",
              "9     166.4100\n",
              "10    180.0964\n",
              "Name: T_squared, dtype: float64"
            ]
          },
          "metadata": {}
        }
      ],
      "execution_count": 19,
      "metadata": {
        "id": "jCbbh7mg3PJH",
        "colab_type": "code",
        "outputId": "5f34a7a3-0ed7-477c-9035-98462f4d447a",
        "colab": {
          "base_uri": "https://localhost:8080/",
          "height": 182
        }
      }
    },
    {
      "cell_type": "markdown",
      "source": [
        "**Exercise**. Figure out some interesting new column. Can it be physically-motivated?"
      ],
      "metadata": {
        "id": "Ko0wXB3VG2Lv",
        "colab_type": "text"
      }
    },
    {
      "cell_type": "code",
      "source": [],
      "outputs": [],
      "execution_count": 20,
      "metadata": {
        "id": "5mIItV5UHl8W",
        "colab_type": "code",
        "colab": {
          "base_uri": "https://localhost:8080/",
          "height": 182
        },
        "outputId": "7d83c62d-2184-4eb0-deb8-d1aafe71c875"
      }
    },
    {
      "cell_type": "markdown",
      "source": [
        "You can select rows with boolean indices:"
      ],
      "metadata": {
        "id": "GLXZU4yPCZIw",
        "colab_type": "text"
      }
    },
    {
      "cell_type": "code",
      "source": [
        "small_df[[False, True, False, False, False, False, False, False]]"
      ],
      "outputs": [
        {
          "output_type": "execute_result",
          "execution_count": 20,
          "data": {
            "text/html": [
              "<div>\n",
              "<table border=\"1\" class=\"dataframe\">\n",
              "  <thead>\n",
              "    <tr style=\"text-align: right;\">\n",
              "      <th></th>\n",
              "      <th>Year</th>\n",
              "      <th>Month</th>\n",
              "      <th>Day</th>\n",
              "      <th>Hour</th>\n",
              "      <th>Minute</th>\n",
              "      <th>Temperature  [2 m above gnd]</th>\n",
              "      <th>Total Precipitation (high resolution)  [sfc]</th>\n",
              "      <th>Wind Speed  [10 m above gnd]</th>\n",
              "      <th>Wind Direction  [10 m above gnd]</th>\n",
              "      <th>T_squared</th>\n",
              "    </tr>\n",
              "  </thead>\n",
              "  <tbody>\n",
              "    <tr>\n",
              "      <th>4</th>\n",
              "      <td>2019</td>\n",
              "      <td>3</td>\n",
              "      <td>5</td>\n",
              "      <td>4</td>\n",
              "      <td>0</td>\n",
              "      <td>13.2</td>\n",
              "      <td>0.0</td>\n",
              "      <td>12.77</td>\n",
              "      <td>111.5</td>\n",
              "      <td>174.24</td>\n",
              "    </tr>\n",
              "  </tbody>\n",
              "</table>\n",
              "</div>"
            ],
            "text/plain": [
              "   Year  Month  Day  Hour  Minute  Temperature  [2 m above gnd]  \\\n",
              "4  2019      3    5     4       0                          13.2   \n",
              "\n",
              "   Total Precipitation (high resolution)  [sfc]  Wind Speed  [10 m above gnd]  \\\n",
              "4                                           0.0                         12.77   \n",
              "\n",
              "   Wind Direction  [10 m above gnd]  T_squared  \n",
              "4                             111.5     174.24  "
            ]
          },
          "metadata": {}
        }
      ],
      "execution_count": 20,
      "metadata": {
        "id": "0gnZ4IKW3PGt",
        "colab_type": "code",
        "outputId": "27c6ae16-ecf6-472a-f4ad-8aec7773ceef",
        "colab": {
          "base_uri": "https://localhost:8080/",
          "height": 150
        }
      }
    },
    {
      "cell_type": "markdown",
      "source": [
        "Obviously, spelling out this list of True and False values is not very practical.\n",
        "However one can get such list from some selection, e.g.:"
      ],
      "metadata": {
        "id": "3ddGyaQ5CeF7",
        "colab_type": "text"
      }
    },
    {
      "cell_type": "code",
      "source": [
        "small_df['T_squared'] > 2.0"
      ],
      "outputs": [
        {
          "output_type": "execute_result",
          "execution_count": 21,
          "data": {
            "text/plain": [
              "3     True\n",
              "4     True\n",
              "5     True\n",
              "6     True\n",
              "7     True\n",
              "8     True\n",
              "9     True\n",
              "10    True\n",
              "Name: T_squared, dtype: bool"
            ]
          },
          "metadata": {}
        }
      ],
      "execution_count": 21,
      "metadata": {
        "id": "PJOavitd3PBd",
        "colab_type": "code",
        "outputId": "250dd1d3-78b7-4430-cee7-7b70925e1515",
        "colab": {
          "base_uri": "https://localhost:8080/",
          "height": 182
        }
      }
    },
    {
      "cell_type": "markdown",
      "source": [
        "And hence the selection can be done like this:"
      ],
      "metadata": {
        "id": "_GP0lWZOCkbX",
        "colab_type": "text"
      }
    },
    {
      "cell_type": "code",
      "source": [
        "small_df[small_df['T_squared'] > 2.0]"
      ],
      "outputs": [
        {
          "output_type": "execute_result",
          "execution_count": 22,
          "data": {
            "text/html": [
              "<div>\n",
              "<table border=\"1\" class=\"dataframe\">\n",
              "  <thead>\n",
              "    <tr style=\"text-align: right;\">\n",
              "      <th></th>\n",
              "      <th>Year</th>\n",
              "      <th>Month</th>\n",
              "      <th>Day</th>\n",
              "      <th>Hour</th>\n",
              "      <th>Minute</th>\n",
              "      <th>Temperature  [2 m above gnd]</th>\n",
              "      <th>Total Precipitation (high resolution)  [sfc]</th>\n",
              "      <th>Wind Speed  [10 m above gnd]</th>\n",
              "      <th>Wind Direction  [10 m above gnd]</th>\n",
              "      <th>T_squared</th>\n",
              "    </tr>\n",
              "  </thead>\n",
              "  <tbody>\n",
              "    <tr>\n",
              "      <th>3</th>\n",
              "      <td>2019</td>\n",
              "      <td>3</td>\n",
              "      <td>5</td>\n",
              "      <td>3</td>\n",
              "      <td>0</td>\n",
              "      <td>13.22</td>\n",
              "      <td>0.0</td>\n",
              "      <td>9.96</td>\n",
              "      <td>102.53</td>\n",
              "      <td>174.7684</td>\n",
              "    </tr>\n",
              "    <tr>\n",
              "      <th>4</th>\n",
              "      <td>2019</td>\n",
              "      <td>3</td>\n",
              "      <td>5</td>\n",
              "      <td>4</td>\n",
              "      <td>0</td>\n",
              "      <td>13.20</td>\n",
              "      <td>0.0</td>\n",
              "      <td>12.77</td>\n",
              "      <td>111.50</td>\n",
              "      <td>174.2400</td>\n",
              "    </tr>\n",
              "    <tr>\n",
              "      <th>5</th>\n",
              "      <td>2019</td>\n",
              "      <td>3</td>\n",
              "      <td>5</td>\n",
              "      <td>5</td>\n",
              "      <td>0</td>\n",
              "      <td>12.74</td>\n",
              "      <td>0.0</td>\n",
              "      <td>14.21</td>\n",
              "      <td>98.75</td>\n",
              "      <td>162.3076</td>\n",
              "    </tr>\n",
              "    <tr>\n",
              "      <th>6</th>\n",
              "      <td>2019</td>\n",
              "      <td>3</td>\n",
              "      <td>5</td>\n",
              "      <td>6</td>\n",
              "      <td>0</td>\n",
              "      <td>12.55</td>\n",
              "      <td>0.0</td>\n",
              "      <td>13.36</td>\n",
              "      <td>85.36</td>\n",
              "      <td>157.5025</td>\n",
              "    </tr>\n",
              "    <tr>\n",
              "      <th>7</th>\n",
              "      <td>2019</td>\n",
              "      <td>3</td>\n",
              "      <td>5</td>\n",
              "      <td>7</td>\n",
              "      <td>0</td>\n",
              "      <td>12.28</td>\n",
              "      <td>0.0</td>\n",
              "      <td>13.05</td>\n",
              "      <td>65.56</td>\n",
              "      <td>150.7984</td>\n",
              "    </tr>\n",
              "    <tr>\n",
              "      <th>8</th>\n",
              "      <td>2019</td>\n",
              "      <td>3</td>\n",
              "      <td>5</td>\n",
              "      <td>8</td>\n",
              "      <td>0</td>\n",
              "      <td>12.23</td>\n",
              "      <td>0.0</td>\n",
              "      <td>13.09</td>\n",
              "      <td>58.50</td>\n",
              "      <td>149.5729</td>\n",
              "    </tr>\n",
              "    <tr>\n",
              "      <th>9</th>\n",
              "      <td>2019</td>\n",
              "      <td>3</td>\n",
              "      <td>5</td>\n",
              "      <td>9</td>\n",
              "      <td>0</td>\n",
              "      <td>12.90</td>\n",
              "      <td>0.0</td>\n",
              "      <td>15.83</td>\n",
              "      <td>72.80</td>\n",
              "      <td>166.4100</td>\n",
              "    </tr>\n",
              "    <tr>\n",
              "      <th>10</th>\n",
              "      <td>2019</td>\n",
              "      <td>3</td>\n",
              "      <td>5</td>\n",
              "      <td>10</td>\n",
              "      <td>0</td>\n",
              "      <td>13.42</td>\n",
              "      <td>0.0</td>\n",
              "      <td>17.56</td>\n",
              "      <td>74.54</td>\n",
              "      <td>180.0964</td>\n",
              "    </tr>\n",
              "  </tbody>\n",
              "</table>\n",
              "</div>"
            ],
            "text/plain": [
              "    Year  Month  Day  Hour  Minute  Temperature  [2 m above gnd]  \\\n",
              "3   2019      3    5     3       0                         13.22   \n",
              "4   2019      3    5     4       0                         13.20   \n",
              "5   2019      3    5     5       0                         12.74   \n",
              "6   2019      3    5     6       0                         12.55   \n",
              "7   2019      3    5     7       0                         12.28   \n",
              "8   2019      3    5     8       0                         12.23   \n",
              "9   2019      3    5     9       0                         12.90   \n",
              "10  2019      3    5    10       0                         13.42   \n",
              "\n",
              "    Total Precipitation (high resolution)  [sfc]  \\\n",
              "3                                            0.0   \n",
              "4                                            0.0   \n",
              "5                                            0.0   \n",
              "6                                            0.0   \n",
              "7                                            0.0   \n",
              "8                                            0.0   \n",
              "9                                            0.0   \n",
              "10                                           0.0   \n",
              "\n",
              "    Wind Speed  [10 m above gnd]  Wind Direction  [10 m above gnd]  T_squared  \n",
              "3                           9.96                            102.53   174.7684  \n",
              "4                          12.77                            111.50   174.2400  \n",
              "5                          14.21                             98.75   162.3076  \n",
              "6                          13.36                             85.36   157.5025  \n",
              "7                          13.05                             65.56   150.7984  \n",
              "8                          13.09                             58.50   149.5729  \n",
              "9                          15.83                             72.80   166.4100  \n",
              "10                         17.56                             74.54   180.0964  "
            ]
          },
          "metadata": {}
        }
      ],
      "execution_count": 22,
      "metadata": {
        "id": "Ktjk2QDC3O5Q",
        "colab_type": "code",
        "outputId": "8341adc6-660a-4ca4-9b7e-8a6656aa81b9",
        "colab": {
          "base_uri": "https://localhost:8080/",
          "height": 147
        }
      }
    },
    {
      "cell_type": "markdown",
      "source": [
        "## Object Creation\n",
        "\n",
        "Creating a Series by passing a list of values, letting pandas create a default integer index:"
      ],
      "metadata": {
        "id": "zahEHAnSpYik",
        "colab_type": "text"
      }
    },
    {
      "cell_type": "code",
      "source": [
        "s = pd.Series([1,3,5,np.nan,6,8])\n",
        "s"
      ],
      "outputs": [
        {
          "output_type": "execute_result",
          "execution_count": 27,
          "data": {
            "text/plain": [
              "0    1.0\n",
              "1    3.0\n",
              "2    5.0\n",
              "3    NaN\n",
              "4    6.0\n",
              "5    8.0\n",
              "dtype: float64"
            ]
          },
          "metadata": {
            "tags": []
          }
        }
      ],
      "execution_count": 0,
      "metadata": {
        "id": "0p5CQoMipZzN",
        "colab_type": "code",
        "outputId": "e827f683-4349-49bf-deb7-d0bdec83c5be",
        "colab": {
          "base_uri": "https://localhost:8080/",
          "height": 136
        }
      }
    },
    {
      "cell_type": "markdown",
      "source": [
        "Creating a DataFrame by passing a NumPy array, with a datetime index and labeled columns:"
      ],
      "metadata": {
        "id": "II51wDJ3pnNB",
        "colab_type": "text"
      }
    },
    {
      "cell_type": "code",
      "source": [
        "dates = pd.date_range('20130101', periods=6)\n",
        "dates"
      ],
      "outputs": [
        {
          "output_type": "execute_result",
          "execution_count": 28,
          "data": {
            "text/plain": [
              "DatetimeIndex(['2013-01-01', '2013-01-02', '2013-01-03', '2013-01-04',\n",
              "               '2013-01-05', '2013-01-06'],\n",
              "              dtype='datetime64[ns]', freq='D')"
            ]
          },
          "metadata": {
            "tags": []
          }
        }
      ],
      "execution_count": 0,
      "metadata": {
        "id": "v2bqizH3pn71",
        "colab_type": "code",
        "outputId": "a2bf6b78-205e-4a11-db5c-e56a0b0f2436",
        "colab": {
          "base_uri": "https://localhost:8080/",
          "height": 68
        }
      }
    },
    {
      "cell_type": "code",
      "source": [
        "df = pd.DataFrame(np.random.randn(6,4), index=dates, columns=list('ABCD'))\n",
        "\n",
        "df"
      ],
      "outputs": [
        {
          "output_type": "execute_result",
          "execution_count": 29,
          "data": {
            "text/html": [
              "<div>\n",
              "<style scoped>\n",
              "    .dataframe tbody tr th:only-of-type {\n",
              "        vertical-align: middle;\n",
              "    }\n",
              "\n",
              "    .dataframe tbody tr th {\n",
              "        vertical-align: top;\n",
              "    }\n",
              "\n",
              "    .dataframe thead th {\n",
              "        text-align: right;\n",
              "    }\n",
              "</style>\n",
              "<table border=\"1\" class=\"dataframe\">\n",
              "  <thead>\n",
              "    <tr style=\"text-align: right;\">\n",
              "      <th></th>\n",
              "      <th>A</th>\n",
              "      <th>B</th>\n",
              "      <th>C</th>\n",
              "      <th>D</th>\n",
              "    </tr>\n",
              "  </thead>\n",
              "  <tbody>\n",
              "    <tr>\n",
              "      <th>2013-01-01</th>\n",
              "      <td>-1.359722</td>\n",
              "      <td>-0.515774</td>\n",
              "      <td>1.396831</td>\n",
              "      <td>-0.064067</td>\n",
              "    </tr>\n",
              "    <tr>\n",
              "      <th>2013-01-02</th>\n",
              "      <td>1.215245</td>\n",
              "      <td>0.202695</td>\n",
              "      <td>-1.089379</td>\n",
              "      <td>0.307725</td>\n",
              "    </tr>\n",
              "    <tr>\n",
              "      <th>2013-01-03</th>\n",
              "      <td>0.489987</td>\n",
              "      <td>-0.385811</td>\n",
              "      <td>-0.764385</td>\n",
              "      <td>-2.183181</td>\n",
              "    </tr>\n",
              "    <tr>\n",
              "      <th>2013-01-04</th>\n",
              "      <td>0.680014</td>\n",
              "      <td>0.298680</td>\n",
              "      <td>-1.469834</td>\n",
              "      <td>-1.835706</td>\n",
              "    </tr>\n",
              "    <tr>\n",
              "      <th>2013-01-05</th>\n",
              "      <td>0.856720</td>\n",
              "      <td>0.281778</td>\n",
              "      <td>0.175882</td>\n",
              "      <td>1.163814</td>\n",
              "    </tr>\n",
              "    <tr>\n",
              "      <th>2013-01-06</th>\n",
              "      <td>-0.136092</td>\n",
              "      <td>-0.416611</td>\n",
              "      <td>2.446754</td>\n",
              "      <td>1.668228</td>\n",
              "    </tr>\n",
              "  </tbody>\n",
              "</table>\n",
              "</div>"
            ],
            "text/plain": [
              "                   A         B         C         D\n",
              "2013-01-01 -1.359722 -0.515774  1.396831 -0.064067\n",
              "2013-01-02  1.215245  0.202695 -1.089379  0.307725\n",
              "2013-01-03  0.489987 -0.385811 -0.764385 -2.183181\n",
              "2013-01-04  0.680014  0.298680 -1.469834 -1.835706\n",
              "2013-01-05  0.856720  0.281778  0.175882  1.163814\n",
              "2013-01-06 -0.136092 -0.416611  2.446754  1.668228"
            ]
          },
          "metadata": {
            "tags": []
          }
        }
      ],
      "execution_count": 0,
      "metadata": {
        "id": "DnBPgYIpp1bC",
        "colab_type": "code",
        "outputId": "11dbb819-cb83-40e1-ed8c-9d080ad94c4a",
        "colab": {
          "base_uri": "https://localhost:8080/",
          "height": 235
        }
      }
    },
    {
      "cell_type": "markdown",
      "source": [
        "Creating a DataFrame by passing a dict of objects that can be converted to series-like."
      ],
      "metadata": {
        "id": "nWm1bmBTp8hK",
        "colab_type": "text"
      }
    },
    {
      "cell_type": "code",
      "source": [
        "df2 = pd.DataFrame({ 'A' : 1.,\n",
        "\t'B' : pd.Timestamp('20130102'),\n",
        "\t'C' : pd.Series(1,index=list(range(4)),dtype='float32'),\n",
        "\t'D' : np.array([3] * 4,dtype='int32'),\n",
        "\t'E' : pd.Categorical([\"test\",\"train\",\"test\",\"train\"]),\n",
        "\t'F' : 'foo' })\n",
        "\n",
        "df2"
      ],
      "outputs": [
        {
          "output_type": "execute_result",
          "execution_count": 121,
          "data": {
            "text/html": [
              "<div>\n",
              "<style scoped>\n",
              "    .dataframe tbody tr th:only-of-type {\n",
              "        vertical-align: middle;\n",
              "    }\n",
              "\n",
              "    .dataframe tbody tr th {\n",
              "        vertical-align: top;\n",
              "    }\n",
              "\n",
              "    .dataframe thead th {\n",
              "        text-align: right;\n",
              "    }\n",
              "</style>\n",
              "<table border=\"1\" class=\"dataframe\">\n",
              "  <thead>\n",
              "    <tr style=\"text-align: right;\">\n",
              "      <th></th>\n",
              "      <th>A</th>\n",
              "      <th>B</th>\n",
              "      <th>C</th>\n",
              "      <th>D</th>\n",
              "      <th>E</th>\n",
              "      <th>F</th>\n",
              "    </tr>\n",
              "  </thead>\n",
              "  <tbody>\n",
              "    <tr>\n",
              "      <th>0</th>\n",
              "      <td>1.0</td>\n",
              "      <td>2013-01-02</td>\n",
              "      <td>1.0</td>\n",
              "      <td>3</td>\n",
              "      <td>test</td>\n",
              "      <td>foo</td>\n",
              "    </tr>\n",
              "    <tr>\n",
              "      <th>1</th>\n",
              "      <td>1.0</td>\n",
              "      <td>2013-01-02</td>\n",
              "      <td>1.0</td>\n",
              "      <td>3</td>\n",
              "      <td>train</td>\n",
              "      <td>foo</td>\n",
              "    </tr>\n",
              "    <tr>\n",
              "      <th>2</th>\n",
              "      <td>1.0</td>\n",
              "      <td>2013-01-02</td>\n",
              "      <td>1.0</td>\n",
              "      <td>3</td>\n",
              "      <td>test</td>\n",
              "      <td>foo</td>\n",
              "    </tr>\n",
              "    <tr>\n",
              "      <th>3</th>\n",
              "      <td>1.0</td>\n",
              "      <td>2013-01-02</td>\n",
              "      <td>1.0</td>\n",
              "      <td>3</td>\n",
              "      <td>train</td>\n",
              "      <td>foo</td>\n",
              "    </tr>\n",
              "  </tbody>\n",
              "</table>\n",
              "</div>"
            ],
            "text/plain": [
              "     A          B    C  D      E    F\n",
              "0  1.0 2013-01-02  1.0  3   test  foo\n",
              "1  1.0 2013-01-02  1.0  3  train  foo\n",
              "2  1.0 2013-01-02  1.0  3   test  foo\n",
              "3  1.0 2013-01-02  1.0  3  train  foo"
            ]
          },
          "metadata": {
            "tags": []
          }
        }
      ],
      "execution_count": 0,
      "metadata": {
        "id": "j7Fupl80p9V8",
        "colab_type": "code",
        "outputId": "8f02d1ad-8f02-4e66-ad45-3eba09b853d1",
        "colab": {
          "base_uri": "https://localhost:8080/",
          "height": 173
        }
      }
    },
    {
      "cell_type": "markdown",
      "source": [
        "The columns of the resulting DataFrame have different dtypes."
      ],
      "metadata": {
        "id": "glFF1KxrqOP1",
        "colab_type": "text"
      }
    },
    {
      "cell_type": "code",
      "source": [
        "df2.dtypes"
      ],
      "outputs": [
        {
          "output_type": "execute_result",
          "execution_count": 122,
          "data": {
            "text/plain": [
              "A           float64\n",
              "B    datetime64[ns]\n",
              "C           float32\n",
              "D             int32\n",
              "E          category\n",
              "F            object\n",
              "dtype: object"
            ]
          },
          "metadata": {
            "tags": []
          }
        }
      ],
      "execution_count": 0,
      "metadata": {
        "id": "WFtHZpZpqR6C",
        "colab_type": "code",
        "outputId": "2a206538-8420-4a4b-b862-ec572368f584",
        "colab": {
          "base_uri": "https://localhost:8080/",
          "height": 136
        }
      }
    },
    {
      "cell_type": "markdown",
      "source": [
        "If you’re using IPython, tab completion for column names (as well as public attributes) is automatically enabled. Here’s a subset of the attributes that will be completed:"
      ],
      "metadata": {
        "id": "hYMt-5zeqXUQ",
        "colab_type": "text"
      }
    },
    {
      "cell_type": "code",
      "source": [
        "df2.<TAB>"
      ],
      "outputs": [],
      "execution_count": 0,
      "metadata": {
        "id": "93O4j3E1qfUI",
        "colab_type": "code",
        "colab": {}
      }
    },
    {
      "cell_type": "markdown",
      "source": [
        "As you can see, the columns A, B, C, and D are automatically tab completed. E is there as well; the rest of the attributes have been truncated for brevity."
      ],
      "metadata": {
        "id": "Gf1oWf5Wqqth",
        "colab_type": "text"
      }
    },
    {
      "cell_type": "markdown",
      "source": [
        "## Viewing Data\n",
        "\n",
        "Here is how to view the top and bottom rows of the frame:"
      ],
      "metadata": {
        "id": "fzn6Gm8gqw85",
        "colab_type": "text"
      }
    },
    {
      "cell_type": "code",
      "source": [
        "df.head()"
      ],
      "outputs": [
        {
          "output_type": "execute_result",
          "execution_count": 123,
          "data": {
            "text/html": [
              "<div>\n",
              "<style scoped>\n",
              "    .dataframe tbody tr th:only-of-type {\n",
              "        vertical-align: middle;\n",
              "    }\n",
              "\n",
              "    .dataframe tbody tr th {\n",
              "        vertical-align: top;\n",
              "    }\n",
              "\n",
              "    .dataframe thead th {\n",
              "        text-align: right;\n",
              "    }\n",
              "</style>\n",
              "<table border=\"1\" class=\"dataframe\">\n",
              "  <thead>\n",
              "    <tr style=\"text-align: right;\">\n",
              "      <th></th>\n",
              "      <th>Year</th>\n",
              "      <th>Month</th>\n",
              "      <th>Day</th>\n",
              "      <th>Hour</th>\n",
              "      <th>Minute</th>\n",
              "      <th>Temperature  [2 m above gnd]</th>\n",
              "      <th>Total Precipitation  [sfc]</th>\n",
              "      <th>Wind Speed  [10 m above gnd]</th>\n",
              "      <th>Wind Direction  [10 m above gnd]</th>\n",
              "    </tr>\n",
              "  </thead>\n",
              "  <tbody>\n",
              "    <tr>\n",
              "      <th>0</th>\n",
              "      <td>2018</td>\n",
              "      <td>11</td>\n",
              "      <td>4</td>\n",
              "      <td>0</td>\n",
              "      <td>0</td>\n",
              "      <td>7.03</td>\n",
              "      <td>0.6</td>\n",
              "      <td>14.76</td>\n",
              "      <td>257.32</td>\n",
              "    </tr>\n",
              "    <tr>\n",
              "      <th>1</th>\n",
              "      <td>2018</td>\n",
              "      <td>11</td>\n",
              "      <td>4</td>\n",
              "      <td>1</td>\n",
              "      <td>0</td>\n",
              "      <td>7.05</td>\n",
              "      <td>0.2</td>\n",
              "      <td>14.49</td>\n",
              "      <td>255.62</td>\n",
              "    </tr>\n",
              "    <tr>\n",
              "      <th>2</th>\n",
              "      <td>2018</td>\n",
              "      <td>11</td>\n",
              "      <td>4</td>\n",
              "      <td>2</td>\n",
              "      <td>0</td>\n",
              "      <td>7.04</td>\n",
              "      <td>0.0</td>\n",
              "      <td>14.35</td>\n",
              "      <td>252.47</td>\n",
              "    </tr>\n",
              "    <tr>\n",
              "      <th>3</th>\n",
              "      <td>2018</td>\n",
              "      <td>11</td>\n",
              "      <td>4</td>\n",
              "      <td>3</td>\n",
              "      <td>0</td>\n",
              "      <td>6.49</td>\n",
              "      <td>0.0</td>\n",
              "      <td>16.10</td>\n",
              "      <td>259.70</td>\n",
              "    </tr>\n",
              "    <tr>\n",
              "      <th>4</th>\n",
              "      <td>2018</td>\n",
              "      <td>11</td>\n",
              "      <td>4</td>\n",
              "      <td>4</td>\n",
              "      <td>0</td>\n",
              "      <td>6.25</td>\n",
              "      <td>0.0</td>\n",
              "      <td>17.29</td>\n",
              "      <td>267.61</td>\n",
              "    </tr>\n",
              "  </tbody>\n",
              "</table>\n",
              "</div>"
            ],
            "text/plain": [
              "   Year  Month  Day  Hour  Minute  Temperature  [2 m above gnd]  \\\n",
              "0  2018     11    4     0       0                          7.03   \n",
              "1  2018     11    4     1       0                          7.05   \n",
              "2  2018     11    4     2       0                          7.04   \n",
              "3  2018     11    4     3       0                          6.49   \n",
              "4  2018     11    4     4       0                          6.25   \n",
              "\n",
              "   Total Precipitation  [sfc]  Wind Speed  [10 m above gnd]  \\\n",
              "0                         0.6                         14.76   \n",
              "1                         0.2                         14.49   \n",
              "2                         0.0                         14.35   \n",
              "3                         0.0                         16.10   \n",
              "4                         0.0                         17.29   \n",
              "\n",
              "   Wind Direction  [10 m above gnd]  \n",
              "0                            257.32  \n",
              "1                            255.62  \n",
              "2                            252.47  \n",
              "3                            259.70  \n",
              "4                            267.61  "
            ]
          },
          "metadata": {
            "tags": []
          }
        }
      ],
      "execution_count": 0,
      "metadata": {
        "id": "9eHlyw-zq1Ob",
        "colab_type": "code",
        "outputId": "cf70670a-cd17-4ac5-d7e4-ce43d3b4d33b",
        "colab": {
          "base_uri": "https://localhost:8080/",
          "height": 238
        }
      }
    },
    {
      "cell_type": "code",
      "source": [
        "df.tail(3)"
      ],
      "outputs": [
        {
          "output_type": "execute_result",
          "execution_count": 124,
          "data": {
            "text/html": [
              "<div>\n",
              "<style scoped>\n",
              "    .dataframe tbody tr th:only-of-type {\n",
              "        vertical-align: middle;\n",
              "    }\n",
              "\n",
              "    .dataframe tbody tr th {\n",
              "        vertical-align: top;\n",
              "    }\n",
              "\n",
              "    .dataframe thead th {\n",
              "        text-align: right;\n",
              "    }\n",
              "</style>\n",
              "<table border=\"1\" class=\"dataframe\">\n",
              "  <thead>\n",
              "    <tr style=\"text-align: right;\">\n",
              "      <th></th>\n",
              "      <th>Year</th>\n",
              "      <th>Month</th>\n",
              "      <th>Day</th>\n",
              "      <th>Hour</th>\n",
              "      <th>Minute</th>\n",
              "      <th>Temperature  [2 m above gnd]</th>\n",
              "      <th>Total Precipitation  [sfc]</th>\n",
              "      <th>Wind Speed  [10 m above gnd]</th>\n",
              "      <th>Wind Direction  [10 m above gnd]</th>\n",
              "    </tr>\n",
              "  </thead>\n",
              "  <tbody>\n",
              "    <tr>\n",
              "      <th>189</th>\n",
              "      <td>2018</td>\n",
              "      <td>11</td>\n",
              "      <td>11</td>\n",
              "      <td>21</td>\n",
              "      <td>0</td>\n",
              "      <td>-3.60</td>\n",
              "      <td>0.0</td>\n",
              "      <td>21.61</td>\n",
              "      <td>119.98</td>\n",
              "    </tr>\n",
              "    <tr>\n",
              "      <th>190</th>\n",
              "      <td>2018</td>\n",
              "      <td>11</td>\n",
              "      <td>11</td>\n",
              "      <td>22</td>\n",
              "      <td>0</td>\n",
              "      <td>-3.85</td>\n",
              "      <td>0.0</td>\n",
              "      <td>21.87</td>\n",
              "      <td>122.91</td>\n",
              "    </tr>\n",
              "    <tr>\n",
              "      <th>191</th>\n",
              "      <td>2018</td>\n",
              "      <td>11</td>\n",
              "      <td>11</td>\n",
              "      <td>23</td>\n",
              "      <td>0</td>\n",
              "      <td>-4.04</td>\n",
              "      <td>0.0</td>\n",
              "      <td>21.68</td>\n",
              "      <td>125.54</td>\n",
              "    </tr>\n",
              "  </tbody>\n",
              "</table>\n",
              "</div>"
            ],
            "text/plain": [
              "     Year  Month  Day  Hour  Minute  Temperature  [2 m above gnd]  \\\n",
              "189  2018     11   11    21       0                         -3.60   \n",
              "190  2018     11   11    22       0                         -3.85   \n",
              "191  2018     11   11    23       0                         -4.04   \n",
              "\n",
              "     Total Precipitation  [sfc]  Wind Speed  [10 m above gnd]  \\\n",
              "189                         0.0                         21.61   \n",
              "190                         0.0                         21.87   \n",
              "191                         0.0                         21.68   \n",
              "\n",
              "     Wind Direction  [10 m above gnd]  \n",
              "189                            119.98  \n",
              "190                            122.91  \n",
              "191                            125.54  "
            ]
          },
          "metadata": {
            "tags": []
          }
        }
      ],
      "execution_count": 0,
      "metadata": {
        "id": "Ijqg2_z0q899",
        "colab_type": "code",
        "outputId": "cb9b6e70-f8fa-4200-c500-ae59e7b02d8b",
        "colab": {
          "base_uri": "https://localhost:8080/",
          "height": 176
        }
      }
    },
    {
      "cell_type": "markdown",
      "source": [
        "Display the index, columns, and the underlying NumPy data:"
      ],
      "metadata": {
        "id": "Vi6hwMllrD1g",
        "colab_type": "text"
      }
    },
    {
      "cell_type": "code",
      "source": [
        "df.index"
      ],
      "outputs": [
        {
          "output_type": "execute_result",
          "execution_count": 125,
          "data": {
            "text/plain": [
              "RangeIndex(start=0, stop=192, step=1)"
            ]
          },
          "metadata": {
            "tags": []
          }
        }
      ],
      "execution_count": 0,
      "metadata": {
        "id": "WoLsYXrUq_6B",
        "colab_type": "code",
        "outputId": "3acce243-c1a6-4074-c5cc-2fac0de32c65",
        "colab": {
          "base_uri": "https://localhost:8080/",
          "height": 34
        }
      }
    },
    {
      "cell_type": "code",
      "source": [
        "df.columns"
      ],
      "outputs": [
        {
          "output_type": "execute_result",
          "execution_count": 126,
          "data": {
            "text/plain": [
              "Index(['Year', 'Month', 'Day', 'Hour', 'Minute',\n",
              "       'Temperature  [2 m above gnd]', 'Total Precipitation  [sfc]',\n",
              "       'Wind Speed  [10 m above gnd]', 'Wind Direction  [10 m above gnd]'],\n",
              "      dtype='object')"
            ]
          },
          "metadata": {
            "tags": []
          }
        }
      ],
      "execution_count": 0,
      "metadata": {
        "id": "bSBPYpF-rN02",
        "colab_type": "code",
        "outputId": "e2a1ad13-e3df-4097-ba33-bca52851940c",
        "colab": {
          "base_uri": "https://localhost:8080/",
          "height": 85
        }
      }
    },
    {
      "cell_type": "code",
      "source": [
        "df.values"
      ],
      "outputs": [
        {
          "output_type": "execute_result",
          "execution_count": 127,
          "data": {
            "text/plain": [
              "array([[2.0180e+03, 1.1000e+01, 4.0000e+00, ..., 6.0000e-01, 1.4760e+01,\n",
              "        2.5732e+02],\n",
              "       [2.0180e+03, 1.1000e+01, 4.0000e+00, ..., 2.0000e-01, 1.4490e+01,\n",
              "        2.5562e+02],\n",
              "       [2.0180e+03, 1.1000e+01, 4.0000e+00, ..., 0.0000e+00, 1.4350e+01,\n",
              "        2.5247e+02],\n",
              "       ...,\n",
              "       [2.0180e+03, 1.1000e+01, 1.1000e+01, ..., 0.0000e+00, 2.1610e+01,\n",
              "        1.1998e+02],\n",
              "       [2.0180e+03, 1.1000e+01, 1.1000e+01, ..., 0.0000e+00, 2.1870e+01,\n",
              "        1.2291e+02],\n",
              "       [2.0180e+03, 1.1000e+01, 1.1000e+01, ..., 0.0000e+00, 2.1680e+01,\n",
              "        1.2554e+02]])"
            ]
          },
          "metadata": {
            "tags": []
          }
        }
      ],
      "execution_count": 0,
      "metadata": {
        "id": "g0Rd45yCrIJT",
        "colab_type": "code",
        "outputId": "2e4d8e62-d7e5-4e42-e1ac-4bd1450715d9",
        "colab": {
          "base_uri": "https://localhost:8080/",
          "height": 238
        }
      }
    },
    {
      "cell_type": "markdown",
      "source": [
        "describe() shows a quick statistic summary of your data:"
      ],
      "metadata": {
        "id": "ah89js-vrVRe",
        "colab_type": "text"
      }
    },
    {
      "cell_type": "code",
      "source": [
        "df.describe()"
      ],
      "outputs": [
        {
          "output_type": "execute_result",
          "execution_count": 128,
          "data": {
            "text/html": [
              "<div>\n",
              "<style scoped>\n",
              "    .dataframe tbody tr th:only-of-type {\n",
              "        vertical-align: middle;\n",
              "    }\n",
              "\n",
              "    .dataframe tbody tr th {\n",
              "        vertical-align: top;\n",
              "    }\n",
              "\n",
              "    .dataframe thead th {\n",
              "        text-align: right;\n",
              "    }\n",
              "</style>\n",
              "<table border=\"1\" class=\"dataframe\">\n",
              "  <thead>\n",
              "    <tr style=\"text-align: right;\">\n",
              "      <th></th>\n",
              "      <th>Year</th>\n",
              "      <th>Month</th>\n",
              "      <th>Day</th>\n",
              "      <th>Hour</th>\n",
              "      <th>Minute</th>\n",
              "      <th>Temperature  [2 m above gnd]</th>\n",
              "      <th>Total Precipitation  [sfc]</th>\n",
              "      <th>Wind Speed  [10 m above gnd]</th>\n",
              "      <th>Wind Direction  [10 m above gnd]</th>\n",
              "    </tr>\n",
              "  </thead>\n",
              "  <tbody>\n",
              "    <tr>\n",
              "      <th>count</th>\n",
              "      <td>192.0</td>\n",
              "      <td>192.0</td>\n",
              "      <td>192.000000</td>\n",
              "      <td>192.000000</td>\n",
              "      <td>192.0</td>\n",
              "      <td>192.000000</td>\n",
              "      <td>192.000000</td>\n",
              "      <td>192.000000</td>\n",
              "      <td>192.000000</td>\n",
              "    </tr>\n",
              "    <tr>\n",
              "      <th>mean</th>\n",
              "      <td>2018.0</td>\n",
              "      <td>11.0</td>\n",
              "      <td>7.500000</td>\n",
              "      <td>11.500000</td>\n",
              "      <td>0.0</td>\n",
              "      <td>2.961406</td>\n",
              "      <td>0.004167</td>\n",
              "      <td>11.575833</td>\n",
              "      <td>189.998958</td>\n",
              "    </tr>\n",
              "    <tr>\n",
              "      <th>std</th>\n",
              "      <td>0.0</td>\n",
              "      <td>0.0</td>\n",
              "      <td>2.297278</td>\n",
              "      <td>6.940284</td>\n",
              "      <td>0.0</td>\n",
              "      <td>2.814121</td>\n",
              "      <td>0.045572</td>\n",
              "      <td>7.412555</td>\n",
              "      <td>84.645082</td>\n",
              "    </tr>\n",
              "    <tr>\n",
              "      <th>min</th>\n",
              "      <td>2018.0</td>\n",
              "      <td>11.0</td>\n",
              "      <td>4.000000</td>\n",
              "      <td>0.000000</td>\n",
              "      <td>0.0</td>\n",
              "      <td>-4.040000</td>\n",
              "      <td>0.000000</td>\n",
              "      <td>1.800000</td>\n",
              "      <td>35.540000</td>\n",
              "    </tr>\n",
              "    <tr>\n",
              "      <th>25%</th>\n",
              "      <td>2018.0</td>\n",
              "      <td>11.0</td>\n",
              "      <td>5.750000</td>\n",
              "      <td>5.750000</td>\n",
              "      <td>0.0</td>\n",
              "      <td>1.740000</td>\n",
              "      <td>0.000000</td>\n",
              "      <td>6.350000</td>\n",
              "      <td>99.112500</td>\n",
              "    </tr>\n",
              "    <tr>\n",
              "      <th>50%</th>\n",
              "      <td>2018.0</td>\n",
              "      <td>11.0</td>\n",
              "      <td>7.500000</td>\n",
              "      <td>11.500000</td>\n",
              "      <td>0.0</td>\n",
              "      <td>2.975000</td>\n",
              "      <td>0.000000</td>\n",
              "      <td>8.660000</td>\n",
              "      <td>218.985000</td>\n",
              "    </tr>\n",
              "    <tr>\n",
              "      <th>75%</th>\n",
              "      <td>2018.0</td>\n",
              "      <td>11.0</td>\n",
              "      <td>9.250000</td>\n",
              "      <td>17.250000</td>\n",
              "      <td>0.0</td>\n",
              "      <td>4.712500</td>\n",
              "      <td>0.000000</td>\n",
              "      <td>16.345000</td>\n",
              "      <td>270.297500</td>\n",
              "    </tr>\n",
              "    <tr>\n",
              "      <th>max</th>\n",
              "      <td>2018.0</td>\n",
              "      <td>11.0</td>\n",
              "      <td>11.000000</td>\n",
              "      <td>23.000000</td>\n",
              "      <td>0.0</td>\n",
              "      <td>9.330000</td>\n",
              "      <td>0.600000</td>\n",
              "      <td>30.120000</td>\n",
              "      <td>360.000000</td>\n",
              "    </tr>\n",
              "  </tbody>\n",
              "</table>\n",
              "</div>"
            ],
            "text/plain": [
              "         Year  Month         Day        Hour  Minute  \\\n",
              "count   192.0  192.0  192.000000  192.000000   192.0   \n",
              "mean   2018.0   11.0    7.500000   11.500000     0.0   \n",
              "std       0.0    0.0    2.297278    6.940284     0.0   \n",
              "min    2018.0   11.0    4.000000    0.000000     0.0   \n",
              "25%    2018.0   11.0    5.750000    5.750000     0.0   \n",
              "50%    2018.0   11.0    7.500000   11.500000     0.0   \n",
              "75%    2018.0   11.0    9.250000   17.250000     0.0   \n",
              "max    2018.0   11.0   11.000000   23.000000     0.0   \n",
              "\n",
              "       Temperature  [2 m above gnd]  Total Precipitation  [sfc]  \\\n",
              "count                    192.000000                  192.000000   \n",
              "mean                       2.961406                    0.004167   \n",
              "std                        2.814121                    0.045572   \n",
              "min                       -4.040000                    0.000000   \n",
              "25%                        1.740000                    0.000000   \n",
              "50%                        2.975000                    0.000000   \n",
              "75%                        4.712500                    0.000000   \n",
              "max                        9.330000                    0.600000   \n",
              "\n",
              "       Wind Speed  [10 m above gnd]  Wind Direction  [10 m above gnd]  \n",
              "count                    192.000000                        192.000000  \n",
              "mean                      11.575833                        189.998958  \n",
              "std                        7.412555                         84.645082  \n",
              "min                        1.800000                         35.540000  \n",
              "25%                        6.350000                         99.112500  \n",
              "50%                        8.660000                        218.985000  \n",
              "75%                       16.345000                        270.297500  \n",
              "max                       30.120000                        360.000000  "
            ]
          },
          "metadata": {
            "tags": []
          }
        }
      ],
      "execution_count": 0,
      "metadata": {
        "id": "hZG0ZsljrWOB",
        "colab_type": "code",
        "outputId": "8008f662-d060-481c-ac57-1ee941d0719b",
        "colab": {
          "base_uri": "https://localhost:8080/",
          "height": 365
        }
      }
    },
    {
      "cell_type": "markdown",
      "source": [
        "# seaborn: statistical data visualization\n",
        "\n",
        "Seaborn is a Python data visualization library based on matplotlib. It provides a high-level interface for drawing attractive and informative statistical graphics."
      ],
      "metadata": {
        "id": "KIPdOl1Sm9zT",
        "colab_type": "text"
      }
    },
    {
      "cell_type": "code",
      "source": [
        "import numpy as np\n",
        "import seaborn as sns\n",
        "sns.set(style=\"ticks\")\n",
        "\n",
        "rs = np.random.RandomState(11)\n",
        "x = rs.gamma(2, size=1000)\n",
        "y = -.5 * x + rs.normal(size=1000)\n",
        "\n",
        "sns.jointplot(x, y, kind=\"hex\", color=\"#4CB391\")"
      ],
      "outputs": [
        {
          "output_type": "execute_result",
          "execution_count": 23,
          "data": {
            "text/plain": [
              "<seaborn.axisgrid.JointGrid at 0x117d9c780>"
            ]
          },
          "metadata": {}
        }
      ],
      "execution_count": 23,
      "metadata": {
        "id": "3p__Ek49mog_",
        "colab_type": "code",
        "outputId": "97bf024b-f7ba-47f8-f505-d32d45666864",
        "colab": {
          "base_uri": "https://localhost:8080/",
          "height": 454
        }
      }
    },
    {
      "cell_type": "code",
      "source": [
        "import matplotlib.pyplot as plt\n",
        "import seaborn as sns\n",
        "sns.set()\n",
        "\n",
        "# Load the example flights dataset and conver to long-form\n",
        "flights_long = sns.load_dataset(\"flights\")\n",
        "flights = flights_long.pivot(\"month\", \"year\", \"passengers\")\n",
        "\n",
        "# Draw a heatmap with the numeric values in each cell\n",
        "f, ax = plt.subplots(figsize=(9, 6))\n",
        "sns.heatmap(flights, annot=True, fmt=\"d\", linewidths=.5, ax=ax)"
      ],
      "outputs": [
        {
          "output_type": "execute_result",
          "execution_count": 24,
          "data": {
            "text/plain": [
              "<matplotlib.axes._subplots.AxesSubplot at 0x11bb11278>"
            ]
          },
          "metadata": {}
        }
      ],
      "execution_count": 24,
      "metadata": {
        "id": "HhNYsrIKnTN8",
        "colab_type": "code",
        "outputId": "c477387c-969f-4d87-c04e-741531879038",
        "colab": {
          "base_uri": "https://localhost:8080/",
          "height": 405
        }
      }
    },
    {
      "cell_type": "markdown",
      "source": [
        "## Exercise 1\n",
        "Plot histogram of temperature values from the weather dataset"
      ],
      "metadata": {}
    },
    {
      "cell_type": "markdown",
      "source": [
        "## Exercise 2\n",
        "Plot joint distribution using `sns.jointplot` of the temperature and wind speed"
      ],
      "metadata": {}
    },
    {
      "cell_type": "code",
      "source": [],
      "outputs": [],
      "execution_count": null,
      "metadata": {
        "collapsed": false,
        "outputHidden": false,
        "inputHidden": false
      }
    }
  ],
  "metadata": {
    "colab": {
      "name": "Basics of data handling.ipynb",
      "version": "0.3.2",
      "provenance": [],
      "collapsed_sections": [
        "lcK5eAjBedmi"
      ],
      "toc_visible": true,
      "include_colab_link": true
    },
    "kernelspec": {
      "name": "python3",
      "language": "python",
      "display_name": "Python 3"
    },
    "kernel_info": {
      "name": "python3"
    },
    "language_info": {
      "nbconvert_exporter": "python",
      "file_extension": ".py",
      "codemirror_mode": {
        "version": 3,
        "name": "ipython"
      },
      "name": "python",
      "mimetype": "text/x-python",
      "version": "3.5.2",
      "pygments_lexer": "ipython3"
    },
    "nteract": {
      "version": "0.15.0"
    }
  },
  "nbformat": 4,
  "nbformat_minor": 0
}